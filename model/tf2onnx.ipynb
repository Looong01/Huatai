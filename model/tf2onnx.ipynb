{
 "cells": [
  {
   "cell_type": "markdown",
   "metadata": {},
   "source": [
    "#### 查看模型结构"
   ]
  },
  {
   "cell_type": "code",
   "execution_count": 1,
   "metadata": {},
   "outputs": [
    {
     "name": "stderr",
     "output_type": "stream",
     "text": [
      "2024-06-08 08:20:22.474682: I tensorflow/core/util/port.cc:110] oneDNN custom operations are on. You may see slightly different numerical results due to floating-point round-off errors from different computation orders. To turn them off, set the environment variable `TF_ENABLE_ONEDNN_OPTS=0`.\n",
      "2024-06-08 08:20:22.497399: I tensorflow/core/platform/cpu_feature_guard.cc:182] This TensorFlow binary is optimized to use available CPU instructions in performance-critical operations.\n",
      "To enable the following instructions: AVX2 AVX_VNNI FMA, in other operations, rebuild TensorFlow with the appropriate compiler flags.\n",
      "2024-06-08 08:20:22.814203: W tensorflow/compiler/tf2tensorrt/utils/py_utils.cc:38] TF-TRT Warning: Could not find TensorRT\n"
     ]
    }
   ],
   "source": [
    "import tf2onnx\n",
    "import tensorflow as tf"
   ]
  },
  {
   "cell_type": "code",
   "execution_count": 2,
   "metadata": {},
   "outputs": [],
   "source": [
    "from tensorflow.python.platform import gfile\n",
    "import tensorflow as tf"
   ]
  },
  {
   "cell_type": "code",
   "execution_count": 3,
   "metadata": {},
   "outputs": [],
   "source": [
    "model_path = 'fintech_model'"
   ]
  },
  {
   "cell_type": "code",
   "execution_count": 4,
   "metadata": {},
   "outputs": [
    {
     "name": "stderr",
     "output_type": "stream",
     "text": [
      "2024-06-08 08:20:23.188401: I tensorflow/compiler/xla/stream_executor/cuda/cuda_gpu_executor.cc:995] successful NUMA node read from SysFS had negative value (-1), but there must be at least one NUMA node, so returning NUMA node zero. See more at https://github.com/torvalds/linux/blob/v6.0/Documentation/ABI/testing/sysfs-bus-pci#L344-L355\n",
      "2024-06-08 08:20:23.188496: I tensorflow/compiler/xla/stream_executor/cuda/cuda_gpu_executor.cc:995] successful NUMA node read from SysFS had negative value (-1), but there must be at least one NUMA node, so returning NUMA node zero. See more at https://github.com/torvalds/linux/blob/v6.0/Documentation/ABI/testing/sysfs-bus-pci#L344-L355\n",
      "2024-06-08 08:20:23.220302: I tensorflow/compiler/xla/stream_executor/cuda/cuda_gpu_executor.cc:995] successful NUMA node read from SysFS had negative value (-1), but there must be at least one NUMA node, so returning NUMA node zero. See more at https://github.com/torvalds/linux/blob/v6.0/Documentation/ABI/testing/sysfs-bus-pci#L344-L355\n",
      "2024-06-08 08:20:23.220423: I tensorflow/compiler/xla/stream_executor/cuda/cuda_gpu_executor.cc:995] successful NUMA node read from SysFS had negative value (-1), but there must be at least one NUMA node, so returning NUMA node zero. See more at https://github.com/torvalds/linux/blob/v6.0/Documentation/ABI/testing/sysfs-bus-pci#L344-L355\n",
      "2024-06-08 08:20:23.220478: I tensorflow/compiler/xla/stream_executor/cuda/cuda_gpu_executor.cc:995] successful NUMA node read from SysFS had negative value (-1), but there must be at least one NUMA node, so returning NUMA node zero. See more at https://github.com/torvalds/linux/blob/v6.0/Documentation/ABI/testing/sysfs-bus-pci#L344-L355\n",
      "2024-06-08 08:20:23.220528: I tensorflow/compiler/xla/stream_executor/cuda/cuda_gpu_executor.cc:995] successful NUMA node read from SysFS had negative value (-1), but there must be at least one NUMA node, so returning NUMA node zero. See more at https://github.com/torvalds/linux/blob/v6.0/Documentation/ABI/testing/sysfs-bus-pci#L344-L355\n",
      "2024-06-08 08:20:23.333512: I tensorflow/compiler/xla/stream_executor/cuda/cuda_gpu_executor.cc:995] successful NUMA node read from SysFS had negative value (-1), but there must be at least one NUMA node, so returning NUMA node zero. See more at https://github.com/torvalds/linux/blob/v6.0/Documentation/ABI/testing/sysfs-bus-pci#L344-L355\n",
      "2024-06-08 08:20:23.333611: I tensorflow/compiler/xla/stream_executor/cuda/cuda_gpu_executor.cc:995] successful NUMA node read from SysFS had negative value (-1), but there must be at least one NUMA node, so returning NUMA node zero. See more at https://github.com/torvalds/linux/blob/v6.0/Documentation/ABI/testing/sysfs-bus-pci#L344-L355\n",
      "2024-06-08 08:20:23.333673: I tensorflow/compiler/xla/stream_executor/cuda/cuda_gpu_executor.cc:995] successful NUMA node read from SysFS had negative value (-1), but there must be at least one NUMA node, so returning NUMA node zero. See more at https://github.com/torvalds/linux/blob/v6.0/Documentation/ABI/testing/sysfs-bus-pci#L344-L355\n",
      "2024-06-08 08:20:23.333720: I tensorflow/compiler/xla/stream_executor/cuda/cuda_gpu_executor.cc:995] successful NUMA node read from SysFS had negative value (-1), but there must be at least one NUMA node, so returning NUMA node zero. See more at https://github.com/torvalds/linux/blob/v6.0/Documentation/ABI/testing/sysfs-bus-pci#L344-L355\n",
      "2024-06-08 08:20:23.333765: I tensorflow/compiler/xla/stream_executor/cuda/cuda_gpu_executor.cc:995] successful NUMA node read from SysFS had negative value (-1), but there must be at least one NUMA node, so returning NUMA node zero. See more at https://github.com/torvalds/linux/blob/v6.0/Documentation/ABI/testing/sysfs-bus-pci#L344-L355\n",
      "2024-06-08 08:20:23.333811: I tensorflow/compiler/xla/stream_executor/cuda/cuda_gpu_executor.cc:995] successful NUMA node read from SysFS had negative value (-1), but there must be at least one NUMA node, so returning NUMA node zero. See more at https://github.com/torvalds/linux/blob/v6.0/Documentation/ABI/testing/sysfs-bus-pci#L344-L355\n",
      "2024-06-08 08:20:23.886849: I tensorflow/compiler/xla/stream_executor/cuda/cuda_gpu_executor.cc:995] successful NUMA node read from SysFS had negative value (-1), but there must be at least one NUMA node, so returning NUMA node zero. See more at https://github.com/torvalds/linux/blob/v6.0/Documentation/ABI/testing/sysfs-bus-pci#L344-L355\n",
      "2024-06-08 08:20:23.886953: I tensorflow/compiler/xla/stream_executor/cuda/cuda_gpu_executor.cc:995] successful NUMA node read from SysFS had negative value (-1), but there must be at least one NUMA node, so returning NUMA node zero. See more at https://github.com/torvalds/linux/blob/v6.0/Documentation/ABI/testing/sysfs-bus-pci#L344-L355\n",
      "2024-06-08 08:20:23.887012: I tensorflow/compiler/xla/stream_executor/cuda/cuda_gpu_executor.cc:995] successful NUMA node read from SysFS had negative value (-1), but there must be at least one NUMA node, so returning NUMA node zero. See more at https://github.com/torvalds/linux/blob/v6.0/Documentation/ABI/testing/sysfs-bus-pci#L344-L355\n",
      "2024-06-08 08:20:23.887064: I tensorflow/compiler/xla/stream_executor/cuda/cuda_gpu_executor.cc:995] successful NUMA node read from SysFS had negative value (-1), but there must be at least one NUMA node, so returning NUMA node zero. See more at https://github.com/torvalds/linux/blob/v6.0/Documentation/ABI/testing/sysfs-bus-pci#L344-L355\n",
      "2024-06-08 08:20:23.887113: I tensorflow/compiler/xla/stream_executor/cuda/cuda_gpu_executor.cc:995] successful NUMA node read from SysFS had negative value (-1), but there must be at least one NUMA node, so returning NUMA node zero. See more at https://github.com/torvalds/linux/blob/v6.0/Documentation/ABI/testing/sysfs-bus-pci#L344-L355\n",
      "2024-06-08 08:20:23.887171: I tensorflow/core/common_runtime/gpu/gpu_device.cc:1639] Created device /job:localhost/replica:0/task:0/device:GPU:0 with 22257 MB memory:  -> device: 0, name: NVIDIA GeForce RTX 3090, pci bus id: 0000:01:00.0, compute capability: 8.6\n",
      "2024-06-08 08:20:23.887413: I tensorflow/compiler/xla/stream_executor/cuda/cuda_gpu_executor.cc:995] successful NUMA node read from SysFS had negative value (-1), but there must be at least one NUMA node, so returning NUMA node zero. See more at https://github.com/torvalds/linux/blob/v6.0/Documentation/ABI/testing/sysfs-bus-pci#L344-L355\n",
      "2024-06-08 08:20:23.887470: I tensorflow/core/common_runtime/gpu/gpu_device.cc:1639] Created device /job:localhost/replica:0/task:0/device:GPU:1 with 11876 MB memory:  -> device: 1, name: NVIDIA GeForce RTX 3090, pci bus id: 0000:05:00.0, compute capability: 8.6\n"
     ]
    },
    {
     "name": "stdout",
     "output_type": "stream",
     "text": [
      "签名： ['serving_default']\n",
      "输入： ((), {'input_2': TensorSpec(shape=(None, 100), dtype=tf.float32, name='input_2'), 'input_1': TensorSpec(shape=(None, 100), dtype=tf.float32, name='input_1')})\n",
      "输出： {'dense_6': TensorSpec(shape=(None, 1), dtype=tf.float32, name='dense_6')}\n"
     ]
    }
   ],
   "source": [
    "# 加载SavedModel\n",
    "loaded_model = tf.saved_model.load(model_path)\n",
    "\n",
    "# 打印模型签名\n",
    "print(\"签名：\", list(loaded_model.signatures.keys()))\n",
    "\n",
    "# 获取具体的签名函数\n",
    "inference_func = loaded_model.signatures['serving_default']\n",
    "\n",
    "# 打印输入和输出\n",
    "print(\"输入：\", inference_func.structured_input_signature)\n",
    "print(\"输出：\", inference_func.structured_outputs)"
   ]
  },
  {
   "cell_type": "code",
   "execution_count": 5,
   "metadata": {},
   "outputs": [
    {
     "name": "stdout",
     "output_type": "stream",
     "text": [
      "input_1\n",
      "input_2\n",
      "unknown\n",
      "unknown_0\n",
      "unknown_1\n",
      "unknown_2\n",
      "unknown_3\n",
      "unknown_4\n",
      "unknown_5\n",
      "unknown_6\n",
      "unknown_7\n",
      "unknown_8\n",
      "unknown_9\n",
      "unknown_10\n",
      "unknown_11\n",
      "unknown_12\n",
      "unknown_13\n",
      "unknown_14\n",
      "unknown_15\n",
      "unknown_16\n",
      "unknown_17\n",
      "unknown_18\n",
      "unknown_19\n",
      "unknown_20\n",
      "unknown_21\n",
      "unknown_22\n",
      "unknown_23\n",
      "unknown_24\n",
      "unknown_25\n",
      "unknown_26\n",
      "unknown_27\n",
      "unknown_28\n",
      "unknown_29\n",
      "unknown_30\n",
      "unknown_31\n",
      "unknown_32\n",
      "unknown_33\n",
      "unknown_34\n",
      "unknown_35\n",
      "unknown_36\n",
      "StatefulPartitionedCall\n",
      "NoOp\n",
      "Identity\n"
     ]
    }
   ],
   "source": [
    "# 获取模型的签名函数\n",
    "signatures = loaded_model.signatures\n",
    "\n",
    "# 获取默认签名函数\n",
    "default_signature = signatures['serving_default']\n",
    "\n",
    "# 获取所有操作的名称\n",
    "tensor_name_list = [op.name for op in default_signature.graph.get_operations()]\n",
    "\n",
    "# 打印所有操作的名称\n",
    "for tensor_name in tensor_name_list:\n",
    "    print(tensor_name)"
   ]
  },
  {
   "cell_type": "markdown",
   "metadata": {},
   "source": [
    "#### 转换为ONNX"
   ]
  },
  {
   "cell_type": "code",
   "execution_count": 10,
   "metadata": {},
   "outputs": [
    {
     "name": "stdout",
     "output_type": "stream",
     "text": [
      "/home/fnic/miniconda3/envs/tf2.13.1/lib/python3.10/runpy.py:126: RuntimeWarning: 'tf2onnx.convert' found in sys.modules after import of package 'tf2onnx', but prior to execution of 'tf2onnx.convert'; this may result in unpredictable behaviour\n",
      "  warn(RuntimeWarning(msg))\n",
      "2024-06-08 08:27:59,006 - INFO - Signatures found in model: [serving_default].\n",
      "2024-06-08 08:27:59,006 - WARNING - '--signature_def' not specified, using first signature: serving_default\n",
      "2024-06-08 08:27:59,006 - INFO - Output names: ['dense_6']\n",
      "2024-06-08 08:27:59,145 - INFO - Using tensorflow=2.13.1, onnx=1.16.1, tf2onnx=1.16.1/15c810\n",
      "2024-06-08 08:27:59,145 - INFO - Using opset <onnx, 15>\n",
      "2024-06-08 08:27:59,155 - INFO - Computed 0 values for constant folding\n",
      "2024-06-08 08:27:59,174 - INFO - Optimizing ONNX model\n",
      "2024-06-08 08:27:59,208 - INFO - After optimization: Const -1 (27->26), Identity -2 (2->0)\n",
      "2024-06-08 08:27:59,209 - INFO - \n",
      "2024-06-08 08:27:59,210 - INFO - Successfully converted TensorFlow model fintech_model to ONNX\n",
      "2024-06-08 08:27:59,210 - INFO - Model inputs: ['input_1', 'input_2']\n",
      "2024-06-08 08:27:59,210 - INFO - Model outputs: ['dense_6']\n",
      "2024-06-08 08:27:59,210 - INFO - ONNX model is saved at fintech_model.onnx\n"
     ]
    }
   ],
   "source": [
    "!python -m tf2onnx.convert  --saved-model 'fintech_model' --output 'fintech_model.onnx' --tag serve"
   ]
  }
 ],
 "metadata": {
  "kernelspec": {
   "display_name": "tf2.13.1",
   "language": "python",
   "name": "python3"
  },
  "language_info": {
   "codemirror_mode": {
    "name": "ipython",
    "version": 3
   },
   "file_extension": ".py",
   "mimetype": "text/x-python",
   "name": "python",
   "nbconvert_exporter": "python",
   "pygments_lexer": "ipython3",
   "version": "3.1.-1"
  }
 },
 "nbformat": 4,
 "nbformat_minor": 2
}
